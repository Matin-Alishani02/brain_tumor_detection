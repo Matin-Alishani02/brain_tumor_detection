{
 "cells": [
  {
   "cell_type": "markdown",
   "metadata": {},
   "source": [
    "Import libraries"
   ]
  },
  {
   "cell_type": "code",
   "execution_count": 37,
   "metadata": {},
   "outputs": [],
   "source": [
    "import cv2\n",
    "import os\n",
    "import tensorflow as tf \n",
    "from tensorflow import keras\n",
    "from PIL import Image\n",
    "import numpy as np\n",
    "import matplotlib.pyplot as plt\n",
    "from sklearn.model_selection import train_test_split\n",
    "from keras.utils import normalize , to_categorical\n",
    "from keras.models import Sequential\n",
    "from keras.layers import Conv2D , MaxPooling2D , Activation , Dropout , Flatten , Dense\n",
    "from keras.optimizers import Adam"
   ]
  },
  {
   "cell_type": "markdown",
   "metadata": {},
   "source": [
    "Read data from directory and make a dataset "
   ]
  },
  {
   "cell_type": "code",
   "execution_count": 38,
   "metadata": {},
   "outputs": [],
   "source": [
    "image_directory = \"datasets/\"\n",
    "no_tumor_images = os.listdir(image_directory+\"no/\")\n",
    "yes_tumor_images  = os.listdir(image_directory+\"yes/\")"
   ]
  },
  {
   "cell_type": "code",
   "execution_count": 39,
   "metadata": {},
   "outputs": [],
   "source": [
    "dataset=[]\n",
    "label=[]"
   ]
  },
  {
   "cell_type": "code",
   "execution_count": 40,
   "metadata": {},
   "outputs": [],
   "source": [
    "INPUT_SIZE = 64"
   ]
  },
  {
   "cell_type": "code",
   "execution_count": 41,
   "metadata": {},
   "outputs": [],
   "source": [
    "for i , image_name in enumerate(no_tumor_images):\n",
    "    if (image_name.split(\".\")[1]==\"jpg\"):\n",
    "        image = cv2.imread(image_directory+\"no/\"+image_name)\n",
    "        image = Image.fromarray(image,\"RGB\")\n",
    "        image=image.resize((INPUT_SIZE,INPUT_SIZE))\n",
    "        dataset.append(np.array(image))\n",
    "        label.append(0)"
   ]
  },
  {
   "cell_type": "code",
   "execution_count": 42,
   "metadata": {},
   "outputs": [],
   "source": [
    "for i , image_name in enumerate(yes_tumor_images):\n",
    "    if (image_name.split(\".\")[1]==\"jpg\"):\n",
    "        image = cv2.imread(image_directory+\"yes/\"+image_name)\n",
    "        image = Image.fromarray(image,\"RGB\")\n",
    "        image=image.resize((INPUT_SIZE,INPUT_SIZE))\n",
    "        dataset.append(np.array(image))\n",
    "        label.append(1)"
   ]
  },
  {
   "cell_type": "code",
   "execution_count": 43,
   "metadata": {},
   "outputs": [],
   "source": [
    "dataset=np.array(dataset)\n",
    "label = np.array(label)"
   ]
  },
  {
   "cell_type": "markdown",
   "metadata": {},
   "source": [
    "Split data to train and test and normalize it  "
   ]
  },
  {
   "cell_type": "code",
   "execution_count": 44,
   "metadata": {},
   "outputs": [],
   "source": [
    "x_train ,x_test ,y_train ,y_test = train_test_split(dataset,label,test_size=0.2,random_state=0)"
   ]
  },
  {
   "cell_type": "code",
   "execution_count": 45,
   "metadata": {},
   "outputs": [],
   "source": [
    "x_train=normalize(x_train,axis=1)\n",
    "x_test=normalize(x_test,axis=1)"
   ]
  },
  {
   "cell_type": "code",
   "execution_count": 46,
   "metadata": {},
   "outputs": [],
   "source": [
    "y_train = to_categorical(y_train,num_classes=2)\n",
    "y_test = to_categorical(y_test,num_classes=2)"
   ]
  },
  {
   "cell_type": "markdown",
   "metadata": {},
   "source": [
    "Building and training the model"
   ]
  },
  {
   "cell_type": "code",
   "execution_count": 47,
   "metadata": {},
   "outputs": [],
   "source": [
    "model = Sequential()\n",
    "\n",
    "model.add(Conv2D(32 , (3,3),input_shape=(INPUT_SIZE,INPUT_SIZE,3)))\n",
    "model.add(Activation('relu'))\n",
    "model.add(MaxPooling2D(pool_size=(2,2)))\n",
    "\n",
    "model.add(Conv2D(32 , (3,3),kernel_initializer='he_uniform'))\n",
    "model.add(Activation('relu'))\n",
    "model.add(MaxPooling2D(pool_size=(2,2)))\n",
    "\n",
    "model.add(Conv2D(32 , (3,3),kernel_initializer='he_uniform'))\n",
    "model.add(Activation('relu'))\n",
    "model.add(MaxPooling2D(pool_size=(2,2)))\n",
    "\n",
    "model.add(Flatten())\n",
    "\n",
    "model.add(Dense(64))\n",
    "model.add(Activation('relu')) \n",
    "model.add(Dropout(0.5))\n",
    "\n",
    "model.add(Dense(2))\n",
    "model.add(Activation('softmax'))"
   ]
  },
  {
   "cell_type": "code",
   "execution_count": 48,
   "metadata": {},
   "outputs": [],
   "source": [
    "model.compile(\n",
    "    loss=\"categorical_crossentropy\",\n",
    "    optimizer=Adam(),\n",
    "    metrics=[\"accuracy\"])"
   ]
  },
  {
   "cell_type": "code",
   "execution_count": 49,
   "metadata": {},
   "outputs": [
    {
     "name": "stdout",
     "output_type": "stream",
     "text": [
      "Epoch 1/12\n",
      "150/150 [==============================] - 19s 119ms/step - loss: 0.5420 - accuracy: 0.7279 - val_loss: 0.4347 - val_accuracy: 0.8117\n",
      "Epoch 2/12\n",
      "150/150 [==============================] - 22s 147ms/step - loss: 0.4059 - accuracy: 0.8363 - val_loss: 0.3419 - val_accuracy: 0.8433\n",
      "Epoch 3/12\n",
      "150/150 [==============================] - 19s 128ms/step - loss: 0.3139 - accuracy: 0.8712 - val_loss: 0.2562 - val_accuracy: 0.8967\n",
      "Epoch 4/12\n",
      "150/150 [==============================] - 15s 99ms/step - loss: 0.2187 - accuracy: 0.9192 - val_loss: 0.1803 - val_accuracy: 0.9517\n",
      "Epoch 5/12\n",
      "150/150 [==============================] - 15s 98ms/step - loss: 0.1399 - accuracy: 0.9533 - val_loss: 0.1486 - val_accuracy: 0.9567\n",
      "Epoch 6/12\n",
      "150/150 [==============================] - 15s 99ms/step - loss: 0.0979 - accuracy: 0.9679 - val_loss: 0.1220 - val_accuracy: 0.9667\n",
      "Epoch 7/12\n",
      "150/150 [==============================] - 15s 99ms/step - loss: 0.0828 - accuracy: 0.9725 - val_loss: 0.0992 - val_accuracy: 0.9750\n",
      "Epoch 8/12\n",
      "150/150 [==============================] - 15s 98ms/step - loss: 0.0597 - accuracy: 0.9779 - val_loss: 0.1074 - val_accuracy: 0.9750\n",
      "Epoch 9/12\n",
      "150/150 [==============================] - 15s 98ms/step - loss: 0.0369 - accuracy: 0.9896 - val_loss: 0.1367 - val_accuracy: 0.9567\n",
      "Epoch 10/12\n",
      "150/150 [==============================] - 15s 98ms/step - loss: 0.0308 - accuracy: 0.9879 - val_loss: 0.1705 - val_accuracy: 0.9533\n",
      "Epoch 11/12\n",
      "150/150 [==============================] - 16s 106ms/step - loss: 0.0159 - accuracy: 0.9954 - val_loss: 0.0846 - val_accuracy: 0.9800\n",
      "Epoch 12/12\n",
      "150/150 [==============================] - 15s 101ms/step - loss: 0.0105 - accuracy: 0.9967 - val_loss: 0.0855 - val_accuracy: 0.9833\n"
     ]
    }
   ],
   "source": [
    "history = model.fit(\n",
    "            x_train,\n",
    "            y_train,\n",
    "            batch_size=16,\n",
    "            verbose=1,\n",
    "            epochs=12,\n",
    "            validation_data=(x_test,y_test),\n",
    "            shuffle=False)"
   ]
  },
  {
   "cell_type": "code",
   "execution_count": 50,
   "metadata": {},
   "outputs": [
    {
     "name": "stderr",
     "output_type": "stream",
     "text": [
      "WARNING:absl:Found untraced functions such as _jit_compiled_convolution_op, _jit_compiled_convolution_op, _jit_compiled_convolution_op while saving (showing 3 of 3). These functions will not be directly callable after loading.\n"
     ]
    },
    {
     "name": "stdout",
     "output_type": "stream",
     "text": [
      "INFO:tensorflow:Assets written to: brainTumore.h4\\assets\n"
     ]
    },
    {
     "name": "stderr",
     "output_type": "stream",
     "text": [
      "INFO:tensorflow:Assets written to: brainTumore.h4\\assets\n"
     ]
    }
   ],
   "source": [
    "model.save(\"brainTumore.h4\")"
   ]
  },
  {
   "cell_type": "code",
   "execution_count": 51,
   "metadata": {},
   "outputs": [
    {
     "name": "stdout",
     "output_type": "stream",
     "text": [
      "Model: \"sequential_2\"\n",
      "_________________________________________________________________\n",
      " Layer (type)                Output Shape              Param #   \n",
      "=================================================================\n",
      " conv2d_6 (Conv2D)           (None, 62, 62, 32)        896       \n",
      "                                                                 \n",
      " activation_10 (Activation)  (None, 62, 62, 32)        0         \n",
      "                                                                 \n",
      " max_pooling2d_6 (MaxPooling  (None, 31, 31, 32)       0         \n",
      " 2D)                                                             \n",
      "                                                                 \n",
      " conv2d_7 (Conv2D)           (None, 29, 29, 32)        9248      \n",
      "                                                                 \n",
      " activation_11 (Activation)  (None, 29, 29, 32)        0         \n",
      "                                                                 \n",
      " max_pooling2d_7 (MaxPooling  (None, 14, 14, 32)       0         \n",
      " 2D)                                                             \n",
      "                                                                 \n",
      " conv2d_8 (Conv2D)           (None, 12, 12, 32)        9248      \n",
      "                                                                 \n",
      " activation_12 (Activation)  (None, 12, 12, 32)        0         \n",
      "                                                                 \n",
      " max_pooling2d_8 (MaxPooling  (None, 6, 6, 32)         0         \n",
      " 2D)                                                             \n",
      "                                                                 \n",
      " flatten_2 (Flatten)         (None, 1152)              0         \n",
      "                                                                 \n",
      " dense_4 (Dense)             (None, 64)                73792     \n",
      "                                                                 \n",
      " activation_13 (Activation)  (None, 64)                0         \n",
      "                                                                 \n",
      " dropout_2 (Dropout)         (None, 64)                0         \n",
      "                                                                 \n",
      " dense_5 (Dense)             (None, 2)                 130       \n",
      "                                                                 \n",
      " activation_14 (Activation)  (None, 2)                 0         \n",
      "                                                                 \n",
      "=================================================================\n",
      "Total params: 93,314\n",
      "Trainable params: 93,314\n",
      "Non-trainable params: 0\n",
      "_________________________________________________________________\n"
     ]
    }
   ],
   "source": [
    "model.summary()"
   ]
  },
  {
   "cell_type": "code",
   "execution_count": 52,
   "metadata": {},
   "outputs": [],
   "source": [
    "def plot_metrics(history):\n",
    "  metrics = ['loss', 'accuracy']\n",
    "  for n, metric in enumerate(metrics):\n",
    "    try:\n",
    "      name = metric.replace(\"_\",\" \").capitalize()\n",
    "      plt.plot(history.epoch, history.history[metric], label='Train')\n",
    "      plt.plot(history.epoch, history.history['val_'+metric], linestyle=\"--\", label='Val')\n",
    "      plt.xlabel('Epoch')\n",
    "      plt.ylabel(name)\n",
    "      if metric == 'loss':\n",
    "        plt.ylim([0, plt.ylim()[1]])\n",
    "      elif metric == 'auc':\n",
    "        plt.ylim([0.8,1])\n",
    "      else:\n",
    "        plt.ylim([0,1])\n",
    "      plt.legend()\n",
    "      plt.show()  \n",
    "    except:\n",
    "      pass"
   ]
  },
  {
   "cell_type": "code",
   "execution_count": 53,
   "metadata": {},
   "outputs": [
    {
     "data": {
      "image/png": "[encoded data removed]",
      "text/plain": [
       "<Figure size 640x480 with 1 Axes>"
      ]
     },
     "metadata": {},
     "output_type": "display_data"
    },
    {
     "data": {
      "image/png": "[encoded data removed]",
      "text/plain": [
       "<Figure size 640x480 with 1 Axes>"
      ]
     },
     "metadata": {},
     "output_type": "display_data"
    }
   ],
   "source": [
    "plot_metrics(history)"
   ]
  }
 ],
 "metadata": {
  "kernelspec": {
   "display_name": "Python 3.10.7 64-bit",
   "language": "python",
   "name": "python3"
  },
  "language_info": {
   "codemirror_mode": {
    "name": "ipython",
    "version": 3
   },
   "file_extension": ".py",
   "mimetype": "text/x-python",
   "name": "python",
   "nbconvert_exporter": "python",
   "pygments_lexer": "ipython3",
   "version": "3.10.7"
  },
  "orig_nbformat": 4,
  "vscode": {
   "interpreter": {
    "hash": "d4c2de42543a6f9fcca96a4e3fbf1db91792fbdc03c384b5ae3c44821a984476"
   }
  }
 },
 "nbformat": 4,
 "nbformat_minor": 2
}
